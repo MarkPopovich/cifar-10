{
 "cells": [
  {
   "cell_type": "markdown",
   "metadata": {},
   "source": [
    "#### What does each filter look like when it is maximally activated?\n",
    "\n",
    "Convulutional neural networks are complex structures that are quite difficult to understand. Even farther removed from the realms of knowledge is an intimate understanding of what is actually going on inside of these 'black-box' structures. Millions of datapoint creating thousands or hundreds of thousands of linear models, linked together and then backpropagated through does not the realm of human knowledge make. \n",
    "\n",
    "One way we can approach a (partial) understanding of what (may) be going on inside of these networks is to visualize the layers by finding images that correlate to maximal activation of specific filters. The images that result from these visualizations make us wonder, dream, and think. "
   ]
  },
  {
   "cell_type": "markdown",
   "metadata": {},
   "source": [
    "The following notebook seeks to implement code shared by Francois Chollet, author of Keras and Deep Learning expert at Google. \n",
    "\n",
    "Blog post: https://blog.keras.io/how-convolutional-neural-networks-see-the-world.html\n",
    "\n",
    "Github: https://github.com/fchollet/keras/blob/master/examples/conv_filter_visualization.py\n",
    "\n",
    "Twitter: https://twitter.com/fchollet"
   ]
  },
  {
   "cell_type": "code",
   "execution_count": 1,
   "metadata": {},
   "outputs": [
    {
     "name": "stderr",
     "output_type": "stream",
     "text": [
      "Using TensorFlow backend.\n"
     ]
    }
   ],
   "source": [
    "from __future__ import print_function\n",
    "\n",
    "from scipy.misc import imsave\n",
    "import numpy as np\n",
    "import time\n",
    "from keras import backend as K"
   ]
  },
  {
   "cell_type": "code",
   "execution_count": 2,
   "metadata": {},
   "outputs": [],
   "source": [
    "from keras import applications\n",
    "\n",
    "# build the VGG16 network\n",
    "model = applications.VGG16(include_top=False,\n",
    "                           weights='imagenet')"
   ]
  },
  {
   "cell_type": "code",
   "execution_count": 3,
   "metadata": {},
   "outputs": [
    {
     "data": {
      "text/plain": [
       "<tf.Tensor 'input_1:0' shape=(?, ?, ?, 3) dtype=float32>"
      ]
     },
     "execution_count": 3,
     "metadata": {},
     "output_type": "execute_result"
    }
   ],
   "source": [
    "model.input"
   ]
  },
  {
   "cell_type": "code",
   "execution_count": 16,
   "metadata": {},
   "outputs": [
    {
     "name": "stdout",
     "output_type": "stream",
     "text": [
      "x_train shape: (50000, 32, 32, 3)\n",
      "50000 train samples\n",
      "10000 test samples\n"
     ]
    },
    {
     "data": {
      "text/plain": [
       "<matplotlib.figure.Figure at 0x7f6810e66908>"
      ]
     },
     "metadata": {},
     "output_type": "display_data"
    }
   ],
   "source": [
    "%run __initremote__.py"
   ]
  },
  {
   "cell_type": "code",
   "execution_count": 86,
   "metadata": {},
   "outputs": [],
   "source": [
    "from keras.models import load_model\n",
    "model = load_model('datagen_115.h5')"
   ]
  },
  {
   "cell_type": "code",
   "execution_count": 59,
   "metadata": {},
   "outputs": [],
   "source": [
    "weights = model.get_weights()"
   ]
  },
  {
   "cell_type": "code",
   "execution_count": 18,
   "metadata": {},
   "outputs": [],
   "source": [
    "class_names_list = ['airplane',\n",
    "                    'automobile',\n",
    "                    'bird',\n",
    "                    'cat',\n",
    "                    'deer',\n",
    "                    'dog',\n",
    "                    'frog',\n",
    "                    'horse',\n",
    "                    'ship',\n",
    "                    'truck']"
   ]
  },
  {
   "cell_type": "code",
   "execution_count": null,
   "metadata": {},
   "outputs": [],
   "source": [
    "y_train = y_train.tolist()\n",
    "\n",
    "for y in range(len(y_train)):\n",
    "    y_train[y] = y_train[y][0]\n",
    "    \n",
    "y_train"
   ]
  },
  {
   "cell_type": "code",
   "execution_count": 51,
   "metadata": {},
   "outputs": [],
   "source": [
    "import matplotlib.pyplot as plt\n",
    "%matplotlib inline\n",
    "def show_unique_images(images, labels, class_names=class_names_list):\n",
    "    unique_labels = []\n",
    "    unique_indices = []\n",
    "    \n",
    "    fig = plt.figure(figsize=(6,3))\n",
    "    \n",
    "    n = 0\n",
    "    for i in range(len(labels)):\n",
    "        if labels[i] not in unique_labels:\n",
    "            #image = images[i].reshape(3,32,32).transpose(1,2,0)\n",
    "            image = images[i]\n",
    "            plt.subplot(2,5,n+1)\n",
    "            n += 1\n",
    "            plt.imshow(image, interpolation=\"nearest\")\n",
    "            plt.title(class_names[labels[i]])\n",
    "            unique_labels.append(labels[i])\n",
    "            unique_indices.append(i)\n",
    "    plt.show()\n",
    "    \n",
    "    return unique_indices"
   ]
  },
  {
   "cell_type": "code",
   "execution_count": 52,
   "metadata": {},
   "outputs": [
    {
     "data": {
      "image/png": "[encoded data removed]",
      "text/plain": [
       "<matplotlib.figure.Figure at 0x7f687e140438>"
      ]
     },
     "metadata": {},
     "output_type": "display_data"
    }
   ],
   "source": [
    "indices = show_unique_images(x_train, y_train)"
   ]
  },
  {
   "cell_type": "markdown",
   "metadata": {},
   "source": [
    "From notebook 00-EDA, I wanted to pull in some images to get a starting point of reference. One thing to keep in mind, however, is that as I visualize these filters, "
   ]
  },
  {
   "cell_type": "code",
   "execution_count": 4,
   "metadata": {},
   "outputs": [],
   "source": [
    "img_width = 128\n",
    "img_height = 128"
   ]
  },
  {
   "cell_type": "code",
   "execution_count": 5,
   "metadata": {},
   "outputs": [
    {
     "data": {
      "text/plain": [
       "[<keras.engine.topology.InputLayer at 0x7f8497e45160>,\n",
       " <keras.layers.convolutional.Conv2D at 0x7f84dd421668>,\n",
       " <keras.layers.convolutional.Conv2D at 0x7f8497e45320>,\n",
       " <keras.layers.pooling.MaxPooling2D at 0x7f8497e454e0>,\n",
       " <keras.layers.convolutional.Conv2D at 0x7f8497dfc908>,\n",
       " <keras.layers.convolutional.Conv2D at 0x7f8497e0ec50>,\n",
       " <keras.layers.pooling.MaxPooling2D at 0x7f8497e200b8>,\n",
       " <keras.layers.convolutional.Conv2D at 0x7f8497dc1630>,\n",
       " <keras.layers.convolutional.Conv2D at 0x7f8497dc1f28>,\n",
       " <keras.layers.convolutional.Conv2D at 0x7f8497de25f8>,\n",
       " <keras.layers.pooling.MaxPooling2D at 0x7f8497d86278>,\n",
       " <keras.layers.convolutional.Conv2D at 0x7f8497da7080>,\n",
       " <keras.layers.convolutional.Conv2D at 0x7f8497da7f98>,\n",
       " <keras.layers.convolutional.Conv2D at 0x7f8497d39518>,\n",
       " <keras.layers.pooling.MaxPooling2D at 0x7f8497d591d0>,\n",
       " <keras.layers.convolutional.Conv2D at 0x7f8497cfc668>,\n",
       " <keras.layers.convolutional.Conv2D at 0x7f8497cfcf60>,\n",
       " <keras.layers.convolutional.Conv2D at 0x7f8497d1e6a0>,\n",
       " <keras.layers.pooling.MaxPooling2D at 0x7f8497cc12b0>]"
      ]
     },
     "execution_count": 5,
     "metadata": {},
     "output_type": "execute_result"
    }
   ],
   "source": [
    "model.layers"
   ]
  },
  {
   "cell_type": "code",
   "execution_count": 6,
   "metadata": {},
   "outputs": [
    {
     "data": {
      "text/plain": [
       "{'block1_conv1': <keras.layers.convolutional.Conv2D at 0x7f84dd421668>,\n",
       " 'block1_conv2': <keras.layers.convolutional.Conv2D at 0x7f8497e45320>,\n",
       " 'block1_pool': <keras.layers.pooling.MaxPooling2D at 0x7f8497e454e0>,\n",
       " 'block2_conv1': <keras.layers.convolutional.Conv2D at 0x7f8497dfc908>,\n",
       " 'block2_conv2': <keras.layers.convolutional.Conv2D at 0x7f8497e0ec50>,\n",
       " 'block2_pool': <keras.layers.pooling.MaxPooling2D at 0x7f8497e200b8>,\n",
       " 'block3_conv1': <keras.layers.convolutional.Conv2D at 0x7f8497dc1630>,\n",
       " 'block3_conv2': <keras.layers.convolutional.Conv2D at 0x7f8497dc1f28>,\n",
       " 'block3_conv3': <keras.layers.convolutional.Conv2D at 0x7f8497de25f8>,\n",
       " 'block3_pool': <keras.layers.pooling.MaxPooling2D at 0x7f8497d86278>,\n",
       " 'block4_conv1': <keras.layers.convolutional.Conv2D at 0x7f8497da7080>,\n",
       " 'block4_conv2': <keras.layers.convolutional.Conv2D at 0x7f8497da7f98>,\n",
       " 'block4_conv3': <keras.layers.convolutional.Conv2D at 0x7f8497d39518>,\n",
       " 'block4_pool': <keras.layers.pooling.MaxPooling2D at 0x7f8497d591d0>,\n",
       " 'block5_conv1': <keras.layers.convolutional.Conv2D at 0x7f8497cfc668>,\n",
       " 'block5_conv2': <keras.layers.convolutional.Conv2D at 0x7f8497cfcf60>,\n",
       " 'block5_conv3': <keras.layers.convolutional.Conv2D at 0x7f8497d1e6a0>,\n",
       " 'block5_pool': <keras.layers.pooling.MaxPooling2D at 0x7f8497cc12b0>,\n",
       " 'input_1': <keras.engine.topology.InputLayer at 0x7f8497e45160>}"
      ]
     },
     "execution_count": 6,
     "metadata": {},
     "output_type": "execute_result"
    }
   ],
   "source": [
    "layer_dict = dict([(layer.name, layer) for layer in model.layers])\n",
    "layer_dict"
   ]
  },
  {
   "cell_type": "code",
   "execution_count": 7,
   "metadata": {},
   "outputs": [],
   "source": [
    "input_img = model.input"
   ]
  },
  {
   "cell_type": "code",
   "execution_count": 8,
   "metadata": {},
   "outputs": [
    {
     "data": {
      "text/plain": [
       "<tf.Tensor 'input_1:0' shape=(?, ?, ?, 3) dtype=float32>"
      ]
     },
     "execution_count": 8,
     "metadata": {},
     "output_type": "execute_result"
    }
   ],
   "source": [
    "input_img"
   ]
  },
  {
   "cell_type": "code",
   "execution_count": 9,
   "metadata": {},
   "outputs": [],
   "source": [
    "#layer_name = 'conv2d_29'\n",
    "layer_name = 'block5_conv1'\n",
    "\n",
    "filter_index = 0\n",
    "\n",
    "layer_output = layer_dict[layer_name].output\n",
    "#Utilizes backend function K.mean() to find the mean of a Tensor\n",
    "loss = K.mean(layer_output[:, :, :, filter_index])\n",
    "grads = K.gradients(loss, input_img)[0]\n"
   ]
  },
  {
   "cell_type": "code",
   "execution_count": 10,
   "metadata": {},
   "outputs": [
    {
     "data": {
      "text/plain": [
       "<tf.Tensor 'block5_conv1/Relu:0' shape=(?, ?, ?, 512) dtype=float32>"
      ]
     },
     "execution_count": 10,
     "metadata": {},
     "output_type": "execute_result"
    }
   ],
   "source": [
    "layer_output"
   ]
  },
  {
   "cell_type": "code",
   "execution_count": 11,
   "metadata": {},
   "outputs": [],
   "source": [
    "grads /= (K.sqrt(K.mean(K.square(grads))) + 1e-5)\n",
    "iterate = K.function([input_img], [loss, grads])"
   ]
  },
  {
   "cell_type": "code",
   "execution_count": 15,
   "metadata": {},
   "outputs": [],
   "source": [
    "def deprocess_image(x):\n",
    "    '''Returns the image to a 0 to 255 range int'''\n",
    "    x -= x.mean()\n",
    "    x /= (x.std() + K.epsilon())\n",
    "    x *= 0.1\n",
    "    \n",
    "    x += 0.5\n",
    "    x = np.clip(x, 0, 1)\n",
    "    x *= 255\n",
    "    if K.image_data_format() == 'channels_first':\n",
    "        x = x.transpose((1, 2, 0))\n",
    "    x = np.clip(x, 0, 255).astype('uint8')\n",
    "    return x"
   ]
  },
  {
   "cell_type": "code",
   "execution_count": 16,
   "metadata": {},
   "outputs": [],
   "source": [
    "def normalize(x):\n",
    "    # utility function to normalize a tensor by its L2 norm\n",
    "    return x / (K.sqrt(K.mean(K.square(x))) + K.epsilon())"
   ]
  },
  {
   "cell_type": "code",
   "execution_count": 17,
   "metadata": {},
   "outputs": [
    {
     "ename": "ValueError",
     "evalue": "Cannot feed value of shape (1, 3, 128, 128) for Tensor 'input_1:0', which has shape '(?, ?, ?, 3)'",
     "output_type": "error",
     "traceback": [
      "\u001b[0;31m\u001b[0m",
      "\u001b[0;31mValueError\u001b[0mTraceback (most recent call last)",
      "\u001b[0;32m<ipython-input-17-5d4ac3d48038>\u001b[0m in \u001b[0;36m<module>\u001b[0;34m()\u001b[0m\n\u001b[1;32m      3\u001b[0m \u001b[0;31m# run gradient ascent for 20 steps\u001b[0m\u001b[0;34m\u001b[0m\u001b[0;34m\u001b[0m\u001b[0m\n\u001b[1;32m      4\u001b[0m \u001b[0;32mfor\u001b[0m \u001b[0mi\u001b[0m \u001b[0;32min\u001b[0m \u001b[0mrange\u001b[0m\u001b[0;34m(\u001b[0m\u001b[0;36m20\u001b[0m\u001b[0;34m)\u001b[0m\u001b[0;34m:\u001b[0m\u001b[0;34m\u001b[0m\u001b[0m\n\u001b[0;32m----> 5\u001b[0;31m     \u001b[0mloss_value\u001b[0m\u001b[0;34m,\u001b[0m \u001b[0mgrads_value\u001b[0m \u001b[0;34m=\u001b[0m \u001b[0miterate\u001b[0m\u001b[0;34m(\u001b[0m\u001b[0;34m[\u001b[0m\u001b[0minput_img_data\u001b[0m\u001b[0;34m]\u001b[0m\u001b[0;34m)\u001b[0m\u001b[0;34m\u001b[0m\u001b[0m\n\u001b[0m\u001b[1;32m      6\u001b[0m     \u001b[0minput_img_data\u001b[0m \u001b[0;34m+=\u001b[0m \u001b[0mgrads_value\u001b[0m \u001b[0;34m*\u001b[0m \u001b[0mstep\u001b[0m\u001b[0;34m\u001b[0m\u001b[0m\n",
      "\u001b[0;32m/usr/local/lib/python3.5/dist-packages/keras/backend/tensorflow_backend.py\u001b[0m in \u001b[0;36m__call__\u001b[0;34m(self, inputs)\u001b[0m\n\u001b[1;32m   2355\u001b[0m         \u001b[0msession\u001b[0m \u001b[0;34m=\u001b[0m \u001b[0mget_session\u001b[0m\u001b[0;34m(\u001b[0m\u001b[0;34m)\u001b[0m\u001b[0;34m\u001b[0m\u001b[0m\n\u001b[1;32m   2356\u001b[0m         updated = session.run(fetches=fetches, feed_dict=feed_dict,\n\u001b[0;32m-> 2357\u001b[0;31m                               **self.session_kwargs)\n\u001b[0m\u001b[1;32m   2358\u001b[0m         \u001b[0;32mreturn\u001b[0m \u001b[0mupdated\u001b[0m\u001b[0;34m[\u001b[0m\u001b[0;34m:\u001b[0m\u001b[0mlen\u001b[0m\u001b[0;34m(\u001b[0m\u001b[0mself\u001b[0m\u001b[0;34m.\u001b[0m\u001b[0moutputs\u001b[0m\u001b[0;34m)\u001b[0m\u001b[0;34m]\u001b[0m\u001b[0;34m\u001b[0m\u001b[0m\n\u001b[1;32m   2359\u001b[0m \u001b[0;34m\u001b[0m\u001b[0m\n",
      "\u001b[0;32m/usr/local/lib/python3.5/dist-packages/tensorflow/python/client/session.py\u001b[0m in \u001b[0;36mrun\u001b[0;34m(self, fetches, feed_dict, options, run_metadata)\u001b[0m\n\u001b[1;32m    887\u001b[0m     \u001b[0;32mtry\u001b[0m\u001b[0;34m:\u001b[0m\u001b[0;34m\u001b[0m\u001b[0m\n\u001b[1;32m    888\u001b[0m       result = self._run(None, fetches, feed_dict, options_ptr,\n\u001b[0;32m--> 889\u001b[0;31m                          run_metadata_ptr)\n\u001b[0m\u001b[1;32m    890\u001b[0m       \u001b[0;32mif\u001b[0m \u001b[0mrun_metadata\u001b[0m\u001b[0;34m:\u001b[0m\u001b[0;34m\u001b[0m\u001b[0m\n\u001b[1;32m    891\u001b[0m         \u001b[0mproto_data\u001b[0m \u001b[0;34m=\u001b[0m \u001b[0mtf_session\u001b[0m\u001b[0;34m.\u001b[0m\u001b[0mTF_GetBuffer\u001b[0m\u001b[0;34m(\u001b[0m\u001b[0mrun_metadata_ptr\u001b[0m\u001b[0;34m)\u001b[0m\u001b[0;34m\u001b[0m\u001b[0m\n",
      "\u001b[0;32m/usr/local/lib/python3.5/dist-packages/tensorflow/python/client/session.py\u001b[0m in \u001b[0;36m_run\u001b[0;34m(self, handle, fetches, feed_dict, options, run_metadata)\u001b[0m\n\u001b[1;32m   1094\u001b[0m                 \u001b[0;34m'Cannot feed value of shape %r for Tensor %r, '\u001b[0m\u001b[0;34m\u001b[0m\u001b[0m\n\u001b[1;32m   1095\u001b[0m                 \u001b[0;34m'which has shape %r'\u001b[0m\u001b[0;34m\u001b[0m\u001b[0m\n\u001b[0;32m-> 1096\u001b[0;31m                 % (np_val.shape, subfeed_t.name, str(subfeed_t.get_shape())))\n\u001b[0m\u001b[1;32m   1097\u001b[0m           \u001b[0;32mif\u001b[0m \u001b[0;32mnot\u001b[0m \u001b[0mself\u001b[0m\u001b[0;34m.\u001b[0m\u001b[0mgraph\u001b[0m\u001b[0;34m.\u001b[0m\u001b[0mis_feedable\u001b[0m\u001b[0;34m(\u001b[0m\u001b[0msubfeed_t\u001b[0m\u001b[0;34m)\u001b[0m\u001b[0;34m:\u001b[0m\u001b[0;34m\u001b[0m\u001b[0m\n\u001b[1;32m   1098\u001b[0m             \u001b[0;32mraise\u001b[0m \u001b[0mValueError\u001b[0m\u001b[0;34m(\u001b[0m\u001b[0;34m'Tensor %s may not be fed.'\u001b[0m \u001b[0;34m%\u001b[0m \u001b[0msubfeed_t\u001b[0m\u001b[0;34m)\u001b[0m\u001b[0;34m\u001b[0m\u001b[0m\n",
      "\u001b[0;31mValueError\u001b[0m: Cannot feed value of shape (1, 3, 128, 128) for Tensor 'input_1:0', which has shape '(?, ?, ?, 3)'"
     ]
    }
   ],
   "source": [
    "# we start from a gray image with some noise\n",
    "input_img_data = np.random.random((1, 3, img_width, img_height)) * 20 + 128.\n",
    "# run gradient ascent for 20 steps\n",
    "for i in range(20):\n",
    "    loss_value, grads_value = iterate([input_img_data])\n",
    "    input_img_data += grads_value * step"
   ]
  },
  {
   "cell_type": "code",
   "execution_count": null,
   "metadata": {},
   "outputs": [],
   "source": [
    "img = input_img_data[0]\n",
    "img = deprocess_image(img)\n",
    "#imsave('%s_filter_%d.png' % (layer_name, filter_index), img)\n",
    "plt.imshow(img, )"
   ]
  }
 ],
 "metadata": {
  "kernelspec": {
   "display_name": "Python 3",
   "language": "python",
   "name": "python3"
  },
  "language_info": {
   "codemirror_mode": {
    "name": "ipython",
    "version": 3
   },
   "file_extension": ".py",
   "mimetype": "text/x-python",
   "name": "python",
   "nbconvert_exporter": "python",
   "pygments_lexer": "ipython3",
   "version": "3.5.2"
  }
 },
 "nbformat": 4,
 "nbformat_minor": 2
}
