{
 "cells": [
  {
   "cell_type": "markdown",
   "metadata": {},
   "source": [
    "### 01 - Fitting a Convulutional Neural Network\n",
    "#### Working from example at https://github.com/fchollet/keras/blob/master/examples/cifar10_cnn.py"
   ]
  },
  {
   "cell_type": "markdown",
   "metadata": {},
   "source": [
    "In this notebook I will fit a convulutional neural network on the CIFAR-10 images. "
   ]
  },
  {
   "cell_type": "code",
   "execution_count": 1,
   "metadata": {},
   "outputs": [
    {
     "name": "stderr",
     "output_type": "stream",
     "text": [
      "Using TensorFlow backend.\n"
     ]
    },
    {
     "name": "stdout",
     "output_type": "stream",
     "text": [
      "X_train: (50000, 32, 32, 3), y_train: (50000,)\n",
      "X_test: (10000, 32, 32, 3), y_test: (10000,)\n",
      "Class labels: ['airplane', 'automobile', 'bird', 'cat', 'deer', 'dog', 'frog', 'horse', 'ship', 'truck']\n"
     ]
    }
   ],
   "source": [
    "%run __init__.py"
   ]
  },
  {
   "cell_type": "markdown",
   "metadata": {},
   "source": [
    "This will be my first try at building a CNN using keras. I will rely heavily on work done by others, but will seek to experiment with many different combinations with the hope that my experimentation will lead to knowledge about how these models work.\n",
    "\n",
    "Specifically, for this notebook I will work on implementing the neural network given as an example here: https://github.com/fchollet/keras/blob/master/examples/cifar10_cnn.py"
   ]
  },
  {
   "cell_type": "markdown",
   "metadata": {},
   "source": [
    "Currently, the labels vector y is a single vector with values ranging from zero to 9. From reading other models, I see that target should be a sparse matrix with one hot encoding instead. \n",
    "\n",
    "The following code uses built in Keras functionality to transform the y vector into a sparse matrix. "
   ]
  },
  {
   "cell_type": "code",
   "execution_count": 5,
   "metadata": {},
   "outputs": [
    {
     "data": {
      "text/plain": [
       "array([6, 9, 9, 4, 1])"
      ]
     },
     "execution_count": 5,
     "metadata": {},
     "output_type": "execute_result"
    }
   ],
   "source": [
    "y_train[0:5]"
   ]
  },
  {
   "cell_type": "code",
   "execution_count": 6,
   "metadata": {},
   "outputs": [
    {
     "data": {
      "text/plain": [
       "array([3, 8, 8, 0, 6])"
      ]
     },
     "execution_count": 6,
     "metadata": {},
     "output_type": "execute_result"
    }
   ],
   "source": [
    "y_test[0:5]"
   ]
  },
  {
   "cell_type": "code",
   "execution_count": 7,
   "metadata": {},
   "outputs": [],
   "source": [
    "y_train = keras.utils.to_categorical(y_train, 10)\n",
    "y_test = keras.utils.to_categorical(y_test, 10)"
   ]
  },
  {
   "cell_type": "code",
   "execution_count": 8,
   "metadata": {},
   "outputs": [
    {
     "data": {
      "text/plain": [
       "(50000, 10)"
      ]
     },
     "execution_count": 8,
     "metadata": {},
     "output_type": "execute_result"
    }
   ],
   "source": [
    "y_train.shape"
   ]
  },
  {
   "cell_type": "code",
   "execution_count": 9,
   "metadata": {},
   "outputs": [
    {
     "data": {
      "text/plain": [
       "array([[ 0.,  0.,  0.,  0.,  0.,  0.,  1.,  0.,  0.,  0.],\n",
       "       [ 0.,  0.,  0.,  0.,  0.,  0.,  0.,  0.,  0.,  1.],\n",
       "       [ 0.,  0.,  0.,  0.,  0.,  0.,  0.,  0.,  0.,  1.],\n",
       "       [ 0.,  0.,  0.,  0.,  1.,  0.,  0.,  0.,  0.,  0.],\n",
       "       [ 0.,  1.,  0.,  0.,  0.,  0.,  0.,  0.,  0.,  0.]])"
      ]
     },
     "execution_count": 9,
     "metadata": {},
     "output_type": "execute_result"
    }
   ],
   "source": [
    "y_train[0:5]"
   ]
  },
  {
   "cell_type": "code",
   "execution_count": 10,
   "metadata": {},
   "outputs": [
    {
     "data": {
      "text/plain": [
       "array([[ 0.,  0.,  0.,  1.,  0.,  0.,  0.,  0.,  0.,  0.],\n",
       "       [ 0.,  0.,  0.,  0.,  0.,  0.,  0.,  0.,  1.,  0.],\n",
       "       [ 0.,  0.,  0.,  0.,  0.,  0.,  0.,  0.,  1.,  0.],\n",
       "       [ 1.,  0.,  0.,  0.,  0.,  0.,  0.,  0.,  0.,  0.],\n",
       "       [ 0.,  0.,  0.,  0.,  0.,  0.,  1.,  0.,  0.,  0.]])"
      ]
     },
     "execution_count": 10,
     "metadata": {},
     "output_type": "execute_result"
    }
   ],
   "source": [
    "y_test[0:5]"
   ]
  },
  {
   "cell_type": "markdown",
   "metadata": {},
   "source": [
    "Keras includes two kinds of models: Sequential and KerasFunctionalAPI. Sequential is the simpler implementation and adds model layers in a linear fashion. The FunctionalAPI is the more complex model and allows the user to create complex architectures to \"build arbitrary graphs of layers.\" (Keras documentation, https://keras.io/)"
   ]
  },
  {
   "cell_type": "markdown",
   "metadata": {},
   "source": [
    "For this notebook, I will build a simple Sequential model and experiment by adding layers in a somewhat unstructured manner, with the goal of blindly training better models as I go. "
   ]
  },
  {
   "cell_type": "code",
   "execution_count": 11,
   "metadata": {},
   "outputs": [],
   "source": [
    "model = Sequential()"
   ]
  },
  {
   "cell_type": "markdown",
   "metadata": {},
   "source": [
    "Adding layers to the neural network is accomplished by using model.add. \n",
    "\n",
    "The first layer I will add will be a Convulutional Neural Network, 2D, for 2 dimensional image. \n",
    "\n",
    "filters=32 defines the dimensionality of the output space.\n",
    "\n",
    "kernel_size=(3,3) specifies the width and height of the 2D convolution window. \n",
    "\n",
    "padding='same' ... I'm not sure what this does. \n",
    "\n",
    "input_shape=(32,32,3) specifies the shape the data will be input. I am working with 32x32 RBG images, so the input shape is (32,32,3). "
   ]
  },
  {
   "cell_type": "code",
   "execution_count": 12,
   "metadata": {},
   "outputs": [],
   "source": [
    "model.add(Conv2D(filters=32, kernel_size=(3,3), padding='same', input_shape=X_train.shape[1:]))"
   ]
  },
  {
   "cell_type": "markdown",
   "metadata": {},
   "source": [
    "Next I will add an activation layer with a rectified linear unit, or 'ReLu'.\n",
    "\n",
    "The 'ReLu' function is defined as:\n",
    "\n",
    "f(x) = max(0,x)\n",
    "\n",
    "In this case, the function will only activate if the value of x is positive. "
   ]
  },
  {
   "cell_type": "code",
   "execution_count": 13,
   "metadata": {},
   "outputs": [],
   "source": [
    "model.add(Activation('relu'))"
   ]
  },
  {
   "cell_type": "markdown",
   "metadata": {},
   "source": [
    "So far I have a single layer neural network. Since I am implementing neural networks here for the first time, I will compile this \"network\" and use its performance results as a baseline implementation. Afterwords I will add more layers to the next work and refit it to study model performance with complexity.\n",
    "The compiler requires an optimizer object. As in the example, I will use an RMSprop optimizer. However, I will leave all of its arguments default since I am using this as a baseline model."
   ]
  },
  {
   "cell_type": "markdown",
   "metadata": {},
   "source": [
    "Note: As my model was not running and I was receiving errors that were beyond my ability to debug, I opted to simply copy and paste a majority of the code below with the simple primary goal of at least getting a model to run/fit. This will not be my final model, but I look at it as simply a learning experience to implement someone elses code could as a first, blind stab at fitting a neural network. "
   ]
  },
  {
   "cell_type": "code",
   "execution_count": 14,
   "metadata": {},
   "outputs": [],
   "source": [
    "model.add(MaxPooling2D(pool_size=(2, 2)))\n",
    "model.add(Dropout(0.25))\n",
    "\n",
    "model.add(Conv2D(64, (3, 3), padding='same'))\n",
    "model.add(Activation('relu'))\n",
    "model.add(Conv2D(64, (3, 3)))\n",
    "model.add(Activation('relu'))\n",
    "model.add(MaxPooling2D(pool_size=(2, 2)))\n",
    "model.add(Dropout(0.25))\n",
    "\n",
    "model.add(Flatten())\n",
    "model.add(Dense(512))\n",
    "model.add(Activation('relu'))\n",
    "model.add(Dropout(0.5))\n",
    "model.add(Dense(10))\n",
    "model.add(Activation('softmax'))"
   ]
  },
  {
   "cell_type": "code",
   "execution_count": 15,
   "metadata": {},
   "outputs": [],
   "source": [
    "opt = keras.optimizers.RMSprop()\n",
    "model.compile(optimizer=opt, loss='categorical_crossentropy', metrics=['accuracy'])"
   ]
  },
  {
   "cell_type": "code",
   "execution_count": 16,
   "metadata": {},
   "outputs": [
    {
     "name": "stdout",
     "output_type": "stream",
     "text": [
      "Train on 50000 samples, validate on 10000 samples\n",
      "Epoch 1/25\n",
      "50000/50000 [==============================] - 136s - loss: 1.5111 - acc: 0.4583 - val_loss: 1.2531 - val_acc: 0.5435\n",
      "Epoch 2/25\n",
      "50000/50000 [==============================] - 140s - loss: 1.1626 - acc: 0.5927 - val_loss: 1.1541 - val_acc: 0.5855\n",
      "Epoch 3/25\n",
      "50000/50000 [==============================] - 457s - loss: 1.0877 - acc: 0.6260 - val_loss: 0.9957 - val_acc: 0.6641\n",
      "Epoch 4/25\n",
      "50000/50000 [==============================] - 147s - loss: 1.0717 - acc: 0.6377 - val_loss: 0.9449 - val_acc: 0.6808\n",
      "Epoch 5/25\n",
      "50000/50000 [==============================] - 137s - loss: 1.0831 - acc: 0.6386 - val_loss: 1.0995 - val_acc: 0.6243\n",
      "Epoch 6/25\n",
      "50000/50000 [==============================] - 138s - loss: 1.1041 - acc: 0.6350 - val_loss: 1.1232 - val_acc: 0.6160\n",
      "Epoch 7/25\n",
      "50000/50000 [==============================] - 148s - loss: 1.1319 - acc: 0.6327 - val_loss: 1.0655 - val_acc: 0.6609\n",
      "Epoch 8/25\n",
      "50000/50000 [==============================] - 184s - loss: 1.1542 - acc: 0.6240 - val_loss: 1.1994 - val_acc: 0.6297\n",
      "Epoch 9/25\n",
      "50000/50000 [==============================] - 185s - loss: 1.2036 - acc: 0.6100 - val_loss: 1.3030 - val_acc: 0.5453\n",
      "Epoch 10/25\n",
      "50000/50000 [==============================] - 168s - loss: 1.2386 - acc: 0.6020 - val_loss: 1.1496 - val_acc: 0.6208\n",
      "Epoch 11/25\n",
      "50000/50000 [==============================] - 156s - loss: 1.2857 - acc: 0.5855 - val_loss: 2.0640 - val_acc: 0.4590\n",
      "Epoch 12/25\n",
      "50000/50000 [==============================] - 153s - loss: 1.3350 - acc: 0.5724 - val_loss: 1.2651 - val_acc: 0.5588\n",
      "Epoch 13/25\n",
      "50000/50000 [==============================] - 151s - loss: 1.3634 - acc: 0.5600 - val_loss: 1.1053 - val_acc: 0.6321\n",
      "Epoch 14/25\n",
      "50000/50000 [==============================] - 152s - loss: 1.3800 - acc: 0.5547 - val_loss: 1.1999 - val_acc: 0.5990\n",
      "Epoch 15/25\n",
      "50000/50000 [==============================] - 142s - loss: 1.3867 - acc: 0.5492 - val_loss: 1.3217 - val_acc: 0.5586\n",
      "Epoch 16/25\n",
      "50000/50000 [==============================] - 149s - loss: 1.3971 - acc: 0.5477 - val_loss: 1.2554 - val_acc: 0.5655\n",
      "Epoch 17/25\n",
      "50000/50000 [==============================] - 132s - loss: 1.4007 - acc: 0.5438 - val_loss: 1.4170 - val_acc: 0.4828\n",
      "Epoch 18/25\n",
      "50000/50000 [==============================] - 131s - loss: 1.4317 - acc: 0.5337 - val_loss: 1.5169 - val_acc: 0.5422\n",
      "Epoch 19/25\n",
      "50000/50000 [==============================] - 145s - loss: 1.4426 - acc: 0.5296 - val_loss: 1.2729 - val_acc: 0.5572\n",
      "Epoch 20/25\n",
      "50000/50000 [==============================] - 167s - loss: 1.4715 - acc: 0.5180 - val_loss: 1.3702 - val_acc: 0.5713\n",
      "Epoch 21/25\n",
      "50000/50000 [==============================] - 183s - loss: 1.4947 - acc: 0.5111 - val_loss: 1.8938 - val_acc: 0.3772\n",
      "Epoch 22/25\n",
      "50000/50000 [==============================] - 162s - loss: 1.5302 - acc: 0.4963 - val_loss: 1.4755 - val_acc: 0.4807\n",
      "Epoch 23/25\n",
      "50000/50000 [==============================] - 146s - loss: 1.5660 - acc: 0.4841 - val_loss: 1.4569 - val_acc: 0.4716\n",
      "Epoch 24/25\n",
      "50000/50000 [==============================] - 185s - loss: 1.5833 - acc: 0.4798 - val_loss: 1.4670 - val_acc: 0.5110\n",
      "Epoch 25/25\n",
      "50000/50000 [==============================] - 169s - loss: 1.6017 - acc: 0.4662 - val_loss: 1.4331 - val_acc: 0.5370\n"
     ]
    },
    {
     "data": {
      "text/plain": [
       "<keras.callbacks.History at 0x7f8509715eb8>"
      ]
     },
     "execution_count": 16,
     "metadata": {},
     "output_type": "execute_result"
    }
   ],
   "source": [
    "model.fit(X_train, y_train,\n",
    "              batch_size=32,\n",
    "              epochs=25,\n",
    "              validation_data=(X_test, y_test),\n",
    "              shuffle=True)"
   ]
  },
  {
   "cell_type": "markdown",
   "metadata": {},
   "source": [
    "In the end, in order to get the model to function, I ended up copying a majority of the code from the example. While I tried to implement a more barebones solution, I wasn't able to get it to run and so opted to at least get a solution that will perform.\n",
    "\n",
    "Even then, the model only fit to an accuracy score of about .10. In the first model, which is no longer part of this notebook, I left the numpy array encoded as values from 0 to 255. Changing the type to float32 and dividing by 255 to encode them as 0.0 to 1.0 values significantly boosted the model performance from .10 to .46 (.638 early on in the training epochs). Clearly, feature selection is paramount to a CNN's ability to successfully classify images. \n",
    "\n",
    "\n",
    "However, looking at the accuracy scores above, I notice that accuracy increases over the first 5 epochs of training, but surprisingly begins to decrease afterward. Could this be a vanishing gradient? \n",
    "\n",
    "My next objective will be to gain a better understand of the basics of neural networks. What are the different layers? How do they work? What, really, is back propagation? How do I begin to tune this model and boost performance? "
   ]
  }
 ],
 "metadata": {
  "kernelspec": {
   "display_name": "Python 3",
   "language": "python",
   "name": "python3"
  },
  "language_info": {
   "codemirror_mode": {
    "name": "ipython",
    "version": 3
   },
   "file_extension": ".py",
   "mimetype": "text/x-python",
   "name": "python",
   "nbconvert_exporter": "python",
   "pygments_lexer": "ipython3",
   "version": "3.6.2"
  }
 },
 "nbformat": 4,
 "nbformat_minor": 2
}
